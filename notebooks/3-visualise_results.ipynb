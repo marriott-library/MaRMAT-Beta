{
 "cells": [
  {
   "cell_type": "code",
   "execution_count": null,
   "id": "ae47f924-2836-4dc2-9f54-e60be40eb757",
   "metadata": {},
   "outputs": [],
   "source": [
    "import sys\n",
    "if \"../\" not in sys.path:\n",
    "    sys.path.append(\"../\")\n",
    "\n",
    "import glob\n",
    "import re\n",
    "\n",
    "import matplotlib.pyplot as plt\n",
    "import pandas as pd\n",
    "from numpy import arange"
   ]
  },
  {
   "cell_type": "code",
   "execution_count": null,
   "id": "f5404d4f-94dd-4843-8c06-2a445452d193",
   "metadata": {},
   "outputs": [],
   "source": [
    "xls_source = {\n",
    "    \"aleph\": [\n",
    "        \"epBooksPre1700.xlsm\", \"epBooks1700s.xlsm\", \"epBooks1800s_1.xlsm\", \"epBooks1800s_2.xlsm\", \"epBooks1800s_3.xlsm\",\n",
    "        \"epBooks1800s_4.xlsm\", \"Maps.xlsm\", \"Music.xlsm\"\n",
    "    ], \n",
    "    \"iams\": [\n",
    "        \"India Office_v2.xlsx\", \"Map Collections_v2.xlsx\", \"Music Collections_v2.xlsx\", \"Oriental Manuscripts_v2.xlsx\",\n",
    "        \"Philatelic Collections_v2.xlsx\", \"Printed Collections_v2.xlsx\", \"Qatar_v2.xlsx\", \"Sound Archive_v2.xlsx\",\n",
    "        \"Visual Arts_v2.xlsx\", \"Western Manuscripts_v2.xlsx\"\n",
    "    ]\n",
    "}"
   ]
  },
  {
   "cell_type": "markdown",
   "id": "15e6e1fc-07b4-455a-b6d7-8e9bb5e25172",
   "metadata": {},
   "source": [
    "### Input stats"
   ]
  },
  {
   "cell_type": "code",
   "execution_count": null,
   "id": "c64526b5-7f33-42ca-af3c-c38a12053684",
   "metadata": {},
   "outputs": [],
   "source": [
    "shapes = {\"aleph\":{}, \"iams\":{}}\n",
    "for f in xls_source[\"aleph\"]:\n",
    "    df = pd.read_csv(f\"..\\\\data\\\\interim\\\\{f[:-5]}.csv\", usecols=[0], encoding=\"utf8\")\n",
    "    shapes[\"aleph\"][f[:-5]] = len(df)"
   ]
  },
  {
   "cell_type": "code",
   "execution_count": null,
   "id": "0ac759c3-c6b0-4d5c-b521-900ab252167b",
   "metadata": {},
   "outputs": [],
   "source": [
    "shapes[\"aleph\"][\"epBooks1800s\"] = sum([shapes[\"aleph\"][f\"epBooks1800s_{x}\"] for x in range(1,5)])\n",
    "for x in range(1,5):\n",
    "    del(shapes[\"aleph\"][f\"epBooks1800s_{x}\"])"
   ]
  },
  {
   "cell_type": "code",
   "execution_count": null,
   "id": "fa30b2f9-df8d-4039-b2ae-cf908153b5fa",
   "metadata": {},
   "outputs": [],
   "source": [
    "shapes"
   ]
  },
  {
   "cell_type": "code",
   "execution_count": null,
   "id": "789fe7c9-5815-4524-bd7e-2dfb47926987",
   "metadata": {},
   "outputs": [],
   "source": [
    "for f in xls_source[\"iams\"]:\n",
    "    df = pd.read_csv(f\"..\\\\data\\\\interim\\\\{f[:-5]}.csv\", usecols=[0], encoding=\"utf8\")\n",
    "    shapes[\"iams\"][f[:-5]] = len(df)"
   ]
  },
  {
   "cell_type": "code",
   "execution_count": null,
   "id": "5422ef1b-6cfc-4aff-bd1d-c9c5d661ae9f",
   "metadata": {},
   "outputs": [],
   "source": [
    "aleph_shapes = pd.DataFrame(shapes[\"aleph\"], index=[\"n_records\"]).T\n",
    "iams_shapes = pd.DataFrame(shapes[\"iams\"], index=[\"n_records\"]).T\n",
    "\n",
    "aleph_shapes[\"source\"] = \"aleph\"\n",
    "iams_shapes[\"source\"] = \"iams\""
   ]
  },
  {
   "cell_type": "code",
   "execution_count": null,
   "id": "a55be2d7-26c3-4bee-845e-a32eb1e64bfb",
   "metadata": {},
   "outputs": [],
   "source": [
    "n_records_df = pd.concat([aleph_shapes, iams_shapes])\n",
    "n_records_df"
   ]
  },
  {
   "cell_type": "code",
   "execution_count": null,
   "id": "e2b9efd7-ae8a-4f98-b185-32d0ebb74d5f",
   "metadata": {},
   "outputs": [],
   "source": [
    "# n_records_df.to_csv(\"..\\\\data\\\\processed\\\\set_statistics.csv\")"
   ]
  },
  {
   "cell_type": "markdown",
   "id": "29ab8d16-deb0-4270-83e7-a5707a40f740",
   "metadata": {},
   "source": [
    "### Visualising Results"
   ]
  },
  {
   "cell_type": "code",
   "execution_count": null,
   "id": "9772bd1c-9ba8-4736-979f-b791d2cf171a",
   "metadata": {},
   "outputs": [],
   "source": [
    "n_records_df = pd.read_csv(\"..\\\\data\\\\processed\\\\set_statistics.csv\", index_col=0)"
   ]
  },
  {
   "cell_type": "code",
   "execution_count": null,
   "id": "79707280-d627-405c-8848-41865f12d4ce",
   "metadata": {},
   "outputs": [],
   "source": [
    "aleph_matches = [x for x in glob.glob(\"..\\\\data\\\\processed\\\\*_matches.csv\") if \"v2\" not in x and len(x.split(\"_\")) == 2]  # exclude 1800s_[1234]_matches\n",
    "iams_matches = [x for x in glob.glob(\"..\\\\data\\\\processed\\\\*_matches.csv\") if \"v2\" in x]"
   ]
  },
  {
   "cell_type": "code",
   "execution_count": null,
   "id": "0c1e0c64-fd48-4455-8ceb-9fb20eb13793",
   "metadata": {},
   "outputs": [],
   "source": [
    "aleph_matches"
   ]
  },
  {
   "cell_type": "code",
   "execution_count": null,
   "id": "b42c07a3-90f6-4dcd-a3bf-c44d49f506d2",
   "metadata": {},
   "outputs": [],
   "source": [
    "aleph_csvs = []\n",
    "for f in aleph_matches:\n",
    "    df = pd.read_csv(f, encoding=\"utf8\")\n",
    "    df[\"set\"] = f.split(\"\\\\\")[-1].split(\"_\")[0]\n",
    "    aleph_csvs.append(df)\n",
    "\n",
    "aleph_matches = pd.concat(aleph_csvs)"
   ]
  },
  {
   "cell_type": "code",
   "execution_count": null,
   "id": "2010ddc4-07d7-4c00-8a0a-ad92b85cf9bf",
   "metadata": {},
   "outputs": [],
   "source": [
    "iams_matches"
   ]
  },
  {
   "cell_type": "code",
   "execution_count": null,
   "id": "1b779257-5a35-4e9b-bde1-00a3ac1c13f3",
   "metadata": {},
   "outputs": [],
   "source": [
    "iams_csvs = []\n",
    "for f in iams_matches:\n",
    "    df = pd.read_csv(f, encoding=\"utf8\")\n",
    "    df[\"set\"] = f.split(\"\\\\\")[-1].split(\"_\")[0] + \"_v2\"\n",
    "    iams_csvs.append(df)\n",
    "\n",
    "iams_matches = pd.concat(iams_csvs)"
   ]
  },
  {
   "cell_type": "code",
   "execution_count": null,
   "id": "983fbc55-64ef-42fb-aa5e-6958654a28a5",
   "metadata": {},
   "outputs": [],
   "source": [
    "aleph_matches.shape"
   ]
  },
  {
   "cell_type": "code",
   "execution_count": null,
   "id": "3bc9edcf-9059-4b07-933f-d4814e559405",
   "metadata": {},
   "outputs": [],
   "source": [
    "iams_matches.shape"
   ]
  },
  {
   "cell_type": "code",
   "execution_count": null,
   "id": "026b9d38-c372-448f-8673-ab42a0a0b167",
   "metadata": {},
   "outputs": [],
   "source": [
    "lexicon_df = pd.read_csv(\"..\\\\data\\\\external\\\\bl_lexicon_plural.csv\")"
   ]
  },
  {
   "cell_type": "code",
   "execution_count": null,
   "id": "7c2b700b-6d1a-4b65-a8f4-4b5b7fa54537",
   "metadata": {},
   "outputs": [],
   "source": [
    "norm_aleph_rec = n_records_df.query(\"source == 'aleph'\")[\"n_records\"].sort_values()/(n_records_df.query(\"source == 'aleph'\")[\"n_records\"].sum())\n",
    "norm_aleph_match = (aleph_matches.groupby(by=\"set\")[\"set\"].count().sort_values()/len(aleph_matches)).rename(\"matches\")\n",
    "norm_aleph = pd.concat([norm_aleph_rec, norm_aleph_match], axis=1)\n",
    "norm_aleph.columns = [\"Fraction of records\", \"Fraction of audit results\"]"
   ]
  },
  {
   "cell_type": "code",
   "execution_count": null,
   "id": "b8894bd1-4a6c-4451-8907-debfeca01302",
   "metadata": {},
   "outputs": [],
   "source": [
    "x = arange(len(norm_aleph))  # the label locations\n",
    "width = 0.3  # the width of the bars\n",
    "multiplier = 0\n",
    "\n",
    "aleph_num_fig, aleph_num_ax = plt.subplots(layout='constrained')\n",
    "\n",
    "for col in norm_aleph.columns:\n",
    "    offset = width * multiplier\n",
    "    rects = aleph_num_ax.bar(x=x + offset, height=norm_aleph[col], width=width, label=col)\n",
    "    aleph_num_ax.bar_label(rects, padding=3, fmt=lambda x: f\"{x:.2}\")\n",
    "    multiplier += 1\n",
    "\n",
    "# Add some text for labels, title and custom x-axis tick labels, etc.\n",
    "aleph_num_ax.set_ylabel('Normalised fraction')\n",
    "aleph_num_ax.set_title('Fraction of results and records in each set')\n",
    "aleph_num_ax.set_xticks(x + width/2, norm_aleph.index)\n",
    "aleph_num_ax.legend(loc='upper left', ncols=2)\n",
    "aleph_num_ax.tick_params(axis=\"x\", rotation=45)\n",
    "aleph_num_ax.set_ylim(0, 1)"
   ]
  },
  {
   "cell_type": "code",
   "execution_count": null,
   "id": "b4a92d9e-3dd4-46a5-8325-1fe4f6137478",
   "metadata": {},
   "outputs": [],
   "source": [
    "norm_iams_rec = n_records_df.query(\"source == 'iams'\")[\"n_records\"].sort_values()/(n_records_df.query(\"source == 'iams'\")[\"n_records\"].sum())\n",
    "norm_iams_match = (iams_matches.groupby(by=\"set\")[\"set\"].count().sort_values()/len(iams_matches)).rename(\"matches\")\n",
    "norm_iams = pd.concat([norm_iams_rec, norm_iams_match], axis=1)\n",
    "norm_iams.columns = [\"Fraction of records\", \"Fraction of audit results\"]"
   ]
  },
  {
   "cell_type": "code",
   "execution_count": null,
   "id": "afd6b9f1-74c0-4f82-8a29-abf39262fd60",
   "metadata": {},
   "outputs": [],
   "source": [
    "iams_x = arange(len(norm_iams))  # the label locations\n",
    "iams_width = 0.35  # the width of the bars\n",
    "iams_multiplier = 0\n",
    "\n",
    "iams_num_fig, iams_num_ax = plt.subplots(layout='constrained', figsize=(12,8))\n",
    "\n",
    "for col in norm_iams.columns:\n",
    "    offset = iams_width * iams_multiplier\n",
    "    rects = iams_num_ax.bar(x=iams_x + offset, height=norm_iams[col], width=iams_width, label=col)\n",
    "    iams_num_ax.bar_label(rects, padding=3, fmt=lambda x: f\"{x:.2}\")\n",
    "    iams_multiplier += 1\n",
    "\n",
    "# Add some text for labels, title and custom x-axis tick labels, etc.\n",
    "iams_num_ax.set_ylabel('Normalised fraction', fontsize=\"xx-large\")\n",
    "iams_num_ax.set_title('Fraction of results and records in each set', fontsize=\"xx-large\")\n",
    "iams_num_ax.set_xticks(iams_x + iams_width/2, norm_iams.index, ha=\"right\", fontsize=\"x-large\")\n",
    "iams_num_ax.legend(loc='upper left', ncols=2, fontsize=\"x-large\")\n",
    "iams_num_ax.tick_params(axis=\"x\", rotation=45, labelsize=\"x-large\")\n",
    "iams_num_ax.tick_params(axis=\"y\", labelsize=\"x-large\")\n",
    "iams_num_ax.set_ylim(0, 0.5)"
   ]
  },
  {
   "cell_type": "code",
   "execution_count": null,
   "id": "85c87703-c00c-451e-9adf-f7123649d69f",
   "metadata": {},
   "outputs": [],
   "source": [
    "# iams_num_fig.savefig(\"..\\\\reports\\\\figures\\\\iams_records_matches.png\", dpi=300, bbox_inches=\"tight\")\n",
    "# aleph_num_fig.savefig(\"..\\\\reports\\\\figures\\\\aleph_records_matches.png\", dpi=300, bbox_inches=\"tight\")"
   ]
  },
  {
   "cell_type": "code",
   "execution_count": null,
   "id": "3261011e-ec27-4a0c-8aca-b5836ca10e19",
   "metadata": {},
   "outputs": [],
   "source": [
    "total_matches = len(aleph_matches), len(iams_matches), len(aleph_matches) + len(iams_matches)\n",
    "total_matches"
   ]
  },
  {
   "cell_type": "code",
   "execution_count": null,
   "id": "31896416-2b10-4b63-b50b-ea2354ae7225",
   "metadata": {},
   "outputs": [],
   "source": [
    "print(f\"Total matches: {sum(total_matches)}\")"
   ]
  },
  {
   "cell_type": "code",
   "execution_count": null,
   "id": "e4e1501b-182c-4a94-b760-50db41243626",
   "metadata": {},
   "outputs": [],
   "source": [
    "aleph_term_counts = aleph_matches.groupby(by=[\"set\", \"Term\"]).count()[\"Occurences\"]\n",
    "iams_term_counts = iams_matches.groupby(by=[\"set\", \"Term\"]).count()[\"Occurences\"]"
   ]
  },
  {
   "cell_type": "code",
   "execution_count": null,
   "id": "b841db6a-ba71-492d-bf63-aff9fc90f643",
   "metadata": {},
   "outputs": [],
   "source": [
    "aleph_term_counts"
   ]
  },
  {
   "cell_type": "code",
   "execution_count": null,
   "id": "67d75a37-5381-424b-9791-8f6051a9c538",
   "metadata": {},
   "outputs": [],
   "source": [
    "def plot_bar(group, source):\n",
    "    sort = group.sort_values(ascending=False)\n",
    "    pct = 100\n",
    "    filter = sort[sort > (sort.sum() / pct)]\n",
    "    if len(filter) < 5:\n",
    "        pct = 200\n",
    "        filter = sort[sort > (sort.sum() / pct)]\n",
    "    fig, ax = plt.subplots(figsize=(8, 4))\n",
    "    ax.bar(x=filter.index.get_level_values(1), height=filter.values, label=f\"Terms representing >{100/pct}% of all matches\")\n",
    "    ax.tick_params(axis=\"x\", rotation=45)\n",
    "    set = group.index.get_level_values(0)[0]\n",
    "    ax.set_title(set)\n",
    "    ax.set_ylabel(\"Count\")\n",
    "    xlabs, xticks = ax.get_xticklabels(), ax.get_xticks()\n",
    "    ax.set_xticks(xticks, [\"\" for x in xlabs])\n",
    "    ax.set_xlabel(\"Audit Terms (Redacted)\")\n",
    "    ax.legend()\n",
    "    fig.savefig(f\"../reports/figures/{source}_term_counts/{set}_redacted.png\", dpi=300, bbox_inches=\"tight\")"
   ]
  },
  {
   "cell_type": "code",
   "execution_count": null,
   "id": "60c0f558-4d7d-4eea-afd7-f592cf5831f5",
   "metadata": {},
   "outputs": [],
   "source": [
    "aleph_term_counts.groupby(level=0).apply(plot_bar, source=\"aleph\")"
   ]
  },
  {
   "cell_type": "code",
   "execution_count": null,
   "id": "8573dead-5c69-4239-831d-8a23b05450c8",
   "metadata": {},
   "outputs": [],
   "source": [
    "iams_term_counts.groupby(level=0).apply(plot_bar, source=\"iams\")"
   ]
  },
  {
   "cell_type": "code",
   "execution_count": null,
   "id": "0e12b0ff-7840-48eb-aff8-af51fa6615f8",
   "metadata": {},
   "outputs": [],
   "source": [
    "results = pd.read_csv(\"..\\\\data\\\\processed\\\\matches.csv\")"
   ]
  },
  {
   "cell_type": "code",
   "execution_count": null,
   "id": "e1d5e485-4367-4ff3-85af-5f7857baeec2",
   "metadata": {},
   "outputs": [],
   "source": [
    "results"
   ]
  },
  {
   "cell_type": "code",
   "execution_count": null,
   "id": "ab671a4e-b129-4bb5-9a98-aa5f6a969656",
   "metadata": {},
   "outputs": [],
   "source": [
    "results.groupby(by=\"Category\")[\"Category\"].count().plot(kind='bar')"
   ]
  },
  {
   "cell_type": "code",
   "execution_count": null,
   "id": "e20e7ddb-feb2-40f0-9909-2f8092beb476",
   "metadata": {},
   "outputs": [],
   "source": [
    "results.groupby(by=\"Term\")[\"Category\"].count().sort_values(ascending=False).plot(kind='bar')"
   ]
  }
 ],
 "metadata": {
  "kernelspec": {
   "display_name": "Python [conda env:desc-aud]",
   "language": "python",
   "name": "conda-env-desc-aud-py"
  },
  "language_info": {
   "codemirror_mode": {
    "name": "ipython",
    "version": 3
   },
   "file_extension": ".py",
   "mimetype": "text/x-python",
   "name": "python",
   "nbconvert_exporter": "python",
   "pygments_lexer": "ipython3",
   "version": "3.11.10"
  }
 },
 "nbformat": 4,
 "nbformat_minor": 5
}
