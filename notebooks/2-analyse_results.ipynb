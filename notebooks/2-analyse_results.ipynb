{
 "cells": [
  {
   "cell_type": "markdown",
   "id": "fda05bb2-9bb9-4016-9257-abbe6fa09b28",
   "metadata": {},
   "source": [
    "This notebook analyses the results of running the RMA tool"
   ]
  },
  {
   "cell_type": "code",
   "execution_count": null,
   "id": "119bcb4a-6d8c-4b96-9b5a-c061568507d1",
   "metadata": {},
   "outputs": [],
   "source": [
    "import sys\n",
    "if \"../\" not in sys.path:\n",
    "    sys.path.append(\"../\")\n",
    "\n",
    "import os\n",
    "import glob\n",
    "import re\n",
    "\n",
    "import matplotlib.pyplot as plt\n",
    "import pandas as pd"
   ]
  },
  {
   "cell_type": "markdown",
   "id": "6136c016-bcbb-4c05-ba64-7ad5df1342f3",
   "metadata": {},
   "source": [
    "### Check results"
   ]
  },
  {
   "cell_type": "code",
   "execution_count": null,
   "id": "bfe3d3b4-6e7f-44f9-8b23-9c04803387de",
   "metadata": {},
   "outputs": [],
   "source": [
    "result_csvs_restr = glob.glob(\"../data/processed/restructure_test/*.csv\")\n",
    "result_csvs_restr"
   ]
  },
  {
   "cell_type": "code",
   "execution_count": null,
   "id": "42c1faeb-960c-495c-b379-9ac425604f39",
   "metadata": {},
   "outputs": [],
   "source": [
    "processed_count_restr = {}\n",
    "for csv in result_csvs_restr:\n",
    "    df = pd.read_csv(csv, index_col=0, encoding=\"utf8\")\n",
    "    processed_count_restr[csv] = df.shape"
   ]
  },
  {
   "cell_type": "code",
   "execution_count": null,
   "id": "d55613ac-1c88-4d39-92f3-6fb9f1f7777a",
   "metadata": {},
   "outputs": [],
   "source": [
    "proc_iams_total = 0\n",
    "proc_aleph_total = 0\n",
    "for k,v in processed_count_restr.items():\n",
    "    if \"v2\" in k:\n",
    "        proc_iams_total += v[0]\n",
    "    else:\n",
    "        proc_aleph_total += v[0] "
   ]
  },
  {
   "cell_type": "code",
   "execution_count": null,
   "id": "2f471980-8c24-4c33-be37-39deb7605d6e",
   "metadata": {},
   "outputs": [],
   "source": [
    "proc_iams_total, proc_aleph_total"
   ]
  },
  {
   "cell_type": "markdown",
   "id": "6b9fec40-b560-40e0-b88d-aa0c36ffac15",
   "metadata": {},
   "source": [
    "### Check results"
   ]
  },
  {
   "cell_type": "code",
   "execution_count": null,
   "id": "3dc2cb39-ed25-4f72-84b2-cf0ea46b1ace",
   "metadata": {},
   "outputs": [],
   "source": [
    "result_csvs_vec = glob.glob(\"../data/processed/vectorised/*.csv\")\n",
    "result_csvs_vec"
   ]
  },
  {
   "cell_type": "code",
   "execution_count": null,
   "id": "a657c77e-c576-4f49-8db3-9d3b0b0b736a",
   "metadata": {},
   "outputs": [],
   "source": [
    "processed_count_vec = {}\n",
    "for csv in result_csvs_vec:\n",
    "    df = pd.read_csv(csv, index_col=0, encoding=\"utf8\")\n",
    "    processed_count_vec[csv] = df.shape"
   ]
  },
  {
   "cell_type": "code",
   "execution_count": null,
   "id": "f2152efc-8cc4-46d7-b878-c6a341c07d85",
   "metadata": {},
   "outputs": [],
   "source": [
    "proc_iams_total = 0\n",
    "proc_aleph_total = 0\n",
    "for k,v in processed_count_vec.items():\n",
    "    if \"v2\" in k:\n",
    "        proc_iams_total += v[0]\n",
    "    else:\n",
    "        proc_aleph_total += v[0] "
   ]
  },
  {
   "cell_type": "code",
   "execution_count": null,
   "id": "6122fc34-fd9a-47e8-bba7-6c0a993461bc",
   "metadata": {},
   "outputs": [],
   "source": [
    "processed_count_vec"
   ]
  },
  {
   "cell_type": "code",
   "execution_count": null,
   "id": "23c17373-5538-4089-be3b-1ac200d2096d",
   "metadata": {},
   "outputs": [],
   "source": [
    "for (k_vec, v_vec), (k_rest, v_rest) in zip(processed_count_vec.items(), processed_count_restr.items()):\n",
    "    if v_vec[0] != v_rest[0]:\n",
    "        print(k_vec)"
   ]
  },
  {
   "cell_type": "code",
   "execution_count": null,
   "id": "9e7df51c-596f-4041-aa8d-d2f9ee21e502",
   "metadata": {},
   "outputs": [],
   "source": [
    "processed_count_vec[\"../data/processed/vectorised\\Western Manuscripts_v2_matches.csv\"], processed_count_restr[\"../data/processed/restructure_test\\Western Manuscripts_v2_matches.csv\"]"
   ]
  },
  {
   "cell_type": "code",
   "execution_count": null,
   "id": "fb445651-d66c-4581-8ae4-043bdc4b66e0",
   "metadata": {},
   "outputs": [],
   "source": [
    "proc_iams_total, proc_aleph_total"
   ]
  },
  {
   "cell_type": "code",
   "execution_count": null,
   "id": "2b143269-ffe8-46dc-8237-f16761d8ae9d",
   "metadata": {},
   "outputs": [],
   "source": [
    "vec_df = pd.read_csv(\"../data/processed/vectorised\\Western Manuscripts_v2_matches.csv\", index_col=0, encoding=\"utf8\")\n",
    "rest_df = pd.read_csv(\"../data/processed/restructure_test\\Western Manuscripts_v2_matches.csv\", index_col=0, encoding=\"utf8\")"
   ]
  },
  {
   "cell_type": "code",
   "execution_count": null,
   "id": "640df19f-0954-4736-9b90-b8be47d58e64",
   "metadata": {},
   "outputs": [],
   "source": [
    "rest_df.loc[\"Add MS 89261/1/1026\"][\"Term\"].values"
   ]
  },
  {
   "cell_type": "code",
   "execution_count": null,
   "id": "f5aff973-34e9-41cd-8789-69e083116565",
   "metadata": {},
   "outputs": [],
   "source": [
    "rest_df"
   ]
  },
  {
   "cell_type": "code",
   "execution_count": null,
   "id": "abe39934-f494-4bd1-b94f-22625162f267",
   "metadata": {},
   "outputs": [],
   "source": [
    "vec_df"
   ]
  },
  {
   "cell_type": "code",
   "execution_count": null,
   "id": "d6546da5-eb13-47c2-a758-63e849079007",
   "metadata": {},
   "outputs": [],
   "source": [
    "vec_df.index.unique()"
   ]
  },
  {
   "cell_type": "code",
   "execution_count": null,
   "id": "e2c73815-ffff-4a51-ac22-78997fb2b795",
   "metadata": {},
   "outputs": [],
   "source": [
    "vec_df.index.difference(rest_df.index)"
   ]
  },
  {
   "cell_type": "markdown",
   "id": "7c97a129-62a3-4cf6-a8ee-65fbed28e3c2",
   "metadata": {},
   "source": [
    "### Combine 1800s books"
   ]
  },
  {
   "cell_type": "code",
   "execution_count": null,
   "id": "3cdb7c00-ffe0-4497-b6ed-e7f7df0e9300",
   "metadata": {},
   "outputs": [],
   "source": [
    "pre1800 = [\n",
    "    '../data/processed\\\\epBooks1800s_1_matches.csv',\n",
    "    '../data/processed\\\\epBooks1800s_2_matches.csv',\n",
    "    '../data/processed\\\\epBooks1800s_3_matches.csv',\n",
    "    '../data/processed\\\\epBooks1800s_4_matches.csv'\n",
    "]"
   ]
  },
  {
   "cell_type": "code",
   "execution_count": null,
   "id": "b475ec1f-10d0-4a3a-97be-75e7701f50fd",
   "metadata": {},
   "outputs": [],
   "source": [
    "pre1800_dfs = [pd.read_csv(match, index_col=0, encoding=\"utf8\") for match in pre1800]\n",
    "pre1800_df = pd.concat(pre1800_dfs)"
   ]
  },
  {
   "cell_type": "code",
   "execution_count": null,
   "id": "7c568d87-9c70-4719-be25-5fb0a616ecf4",
   "metadata": {},
   "outputs": [],
   "source": [
    "# pre1800_df.to_csv('../data/processed\\\\epBooks1800s_matches.csv', encoding=\"utf8\")\n",
    "# pre1800_df.to_excel('../data/processed\\\\epBooks1800s_matches.xlsx')"
   ]
  },
  {
   "cell_type": "markdown",
   "id": "15fb6547-2def-4069-a1c9-4820090bc19d",
   "metadata": {},
   "source": [
    "### Total records check"
   ]
  },
  {
   "cell_type": "code",
   "execution_count": null,
   "id": "abd28f7c-df74-4e01-b428-87bf183bbff5",
   "metadata": {},
   "outputs": [],
   "source": [
    "total_rows = 0\n",
    "for csv in csvs:\n",
    "    if \"utf8\" in csv:\n",
    "        continue\n",
    "    elif \"v2\" not in csv:\n",
    "        continue\n",
    "    print(csv)\n",
    "    df = pd.read_csv(csv, encoding=\"utf8\", nrows=5)\n",
    "    print(not ({\"Title\", \"Scope and content\", \"Date range\", \"Reference\"} - set(df.columns)))"
   ]
  },
  {
   "cell_type": "markdown",
   "id": "adae0395-4df9-4e22-bb63-70e43b386388",
   "metadata": {},
   "source": [
    "Combined 6m rows, 3.5m Aleph, 2.5 IAMS"
   ]
  },
  {
   "cell_type": "markdown",
   "id": "772a0c3b-6b8e-4634-8a3d-f41d55570e1d",
   "metadata": {},
   "source": [
    "### Profiling vectorised steps"
   ]
  },
  {
   "cell_type": "code",
   "execution_count": null,
   "id": "21094007-e5a7-4112-a979-0017792c634f",
   "metadata": {},
   "outputs": [],
   "source": [
    "df = pd.read_csv(\"../data/interim/Maps.csv\")\n",
    "\n",
    "%%timeit \n",
    "df[\"Title [245]\"].str.contains(\"arabesque\", regex=False, na=False, case=False)\n",
    "\n",
    "%%timeit \n",
    "df[\"Title [245]\"].str.contains(\"arabesque\", regex=True, na=False, case=False)\n",
    "\n",
    "%%timeit \n",
    "df[\"Title [245]\"].str.split(\"arab\", regex=True, n=1, expand=True)\n",
    "\n",
    "%%timeit\n",
    "df.iloc[:50][\"Title [245]\"].str.split(\"arab\", regex=True, n=1, expand=True)"
   ]
  },
  {
   "cell_type": "markdown",
   "id": "5b4a7ec7-90ee-4c88-86f7-d8f77374b4e1",
   "metadata": {},
   "source": [
    "So can do 2 contains for less time than 1 regex search. If can reduce each term to 2 lemmas then use regex on version of that then will be quicker. Fine for plurals. Probably have a third column for regexes and a fourth column for whether to do regex immediately - in which case should just split."
   ]
  }
 ],
 "metadata": {
  "kernelspec": {
   "display_name": "Python [conda env:desc-aud]",
   "language": "python",
   "name": "conda-env-desc-aud-py"
  },
  "language_info": {
   "codemirror_mode": {
    "name": "ipython",
    "version": 3
   },
   "file_extension": ".py",
   "mimetype": "text/x-python",
   "name": "python",
   "nbconvert_exporter": "python",
   "pygments_lexer": "ipython3",
   "version": "3.11.10"
  }
 },
 "nbformat": 4,
 "nbformat_minor": 5
}
