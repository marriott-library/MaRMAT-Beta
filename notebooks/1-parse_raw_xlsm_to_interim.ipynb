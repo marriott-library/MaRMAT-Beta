{
 "cells": [
  {
   "cell_type": "code",
   "execution_count": null,
   "id": "8b7a6af2-4cc9-4e66-95a7-712816d7d691",
   "metadata": {},
   "outputs": [],
   "source": [
    "import sys\n",
    "if \"../\" not in sys.path:\n",
    "    sys.path.append(\"../\")\n",
    "\n",
    "import os\n",
    "import glob\n",
    "import re\n",
    "\n",
    "import matplotlib.pyplot as plt\n",
    "import pandas as pd"
   ]
  },
  {
   "cell_type": "code",
   "execution_count": null,
   "id": "8cd3c2ff-4f3a-45b4-b443-d8c8e30cbd60",
   "metadata": {},
   "outputs": [],
   "source": [
    "xls_source = {\n",
    "    \"aleph\": [\n",
    "        \"epBooksPre1700.xlsm\", \"epBooks1700s.xlsm\", \"epBooks1800s_1.xlsm\", \"epBooks1800s_2.xlsm\", \"epBooks1800s_3.xlsm\",\n",
    "        \"epBooks1800s_4.xlsm\", \"Maps.xlsm\", \"Music.xlsm\"\n",
    "    ], \n",
    "    \"iams\": [\n",
    "        \"India Office_v2.xlsx\", \"Map Collections_v2.xlsx\", \"Music Collections_v2.xlsx\", \"Oriental Manuscripts_v2.xlsx\",\n",
    "        \"Philatelic Collections_v2.xlsx\", \"Printed Collections_v2.xlsx\", \"Qatar_v2.xlsx\", \"Sound Archive_v2.xlsx\",\n",
    "        \"Visual Arts_v2.xlsx\", \"Western Manuscripts_v2.xlsx\"\n",
    "    ]\n",
    "}"
   ]
  },
  {
   "cell_type": "markdown",
   "id": "87df8e2c-1c21-471a-8595-e5ba0d6bbdae",
   "metadata": {},
   "source": [
    "### Aleph"
   ]
  },
  {
   "cell_type": "code",
   "execution_count": null,
   "id": "61743cda-b1dc-4209-92fd-c267ae959e55",
   "metadata": {},
   "outputs": [],
   "source": [
    "for f in xls_source[\"aleph\"]:\n",
    "    book_name = f[:-5]\n",
    "    \n",
    "    records = pd.read_excel(f\"../data/raw/{book_name}.xlsm\", sheet_name=None)\n",
    "    \n",
    "    print(list(records))\n",
    "    \n",
    "    if \"Buttons\" in records:\n",
    "        del records[\"Buttons\"]\n",
    "        df = pd.concat([x for x in records.values()])    \n",
    "    \n",
    "    df.head()\n",
    "    df.shape\n",
    "    \n",
    "    df.to_csv(f\"../data/interim/{book_name}.csv\", index=False, encoding=\"utf8\")"
   ]
  },
  {
   "cell_type": "markdown",
   "id": "0c11a130-0e33-4200-a53c-87ebb4af8d44",
   "metadata": {},
   "source": [
    "### IAMS"
   ]
  },
  {
   "cell_type": "code",
   "execution_count": null,
   "id": "8fb28633-5a53-46f1-b081-b6a015e8f521",
   "metadata": {},
   "outputs": [],
   "source": [
    "for f in xls_source[\"iams\"]:\n",
    "    print(f)\n",
    "\n",
    "    book_name = f[:-5]\n",
    "    \n",
    "    df = pd.read_excel(f\"../data/raw/{book_name}.xlsx\", sheet_name=0)\n",
    "    df.head()\n",
    "    df.shape\n",
    "    \n",
    "    df.to_csv(f\"../data/interim/{book_name}.csv\", index=False, encoding=\"utf8\")"
   ]
  },
  {
   "cell_type": "markdown",
   "id": "7871cd69-9d60-4962-8dcd-26b5fc66d26e",
   "metadata": {},
   "source": [
    "### Interim results"
   ]
  },
  {
   "cell_type": "code",
   "execution_count": null,
   "id": "3564729c-078a-4f93-9db4-ecf59f321c6d",
   "metadata": {},
   "outputs": [],
   "source": [
    "interim_csvs = glob.glob(\"../data/interim/*.csv\")"
   ]
  },
  {
   "cell_type": "code",
   "execution_count": null,
   "id": "bc7227c9-c943-4bab-aa60-bd586d80aa49",
   "metadata": {},
   "outputs": [],
   "source": [
    "count = {}"
   ]
  },
  {
   "cell_type": "code",
   "execution_count": null,
   "id": "ccd0c22d-9318-4945-9f07-feaf34beba13",
   "metadata": {
    "scrolled": true
   },
   "outputs": [],
   "source": [
    "for csv in interim_csvs:\n",
    "    print(csv)\n",
    "    if \"10k\" not in csv:\n",
    "        df = pd.read_csv(csv, index_col=0, encoding=\"utf8\")\n",
    "        count[csv] = df.shape"
   ]
  },
  {
   "cell_type": "code",
   "execution_count": null,
   "id": "39bc69ee-f389-4d53-93e3-9b34833b8277",
   "metadata": {},
   "outputs": [],
   "source": [
    "iams_total = 0\n",
    "aleph_total = 0\n",
    "for k,v in count.items():\n",
    "    if \"v2\" in k:\n",
    "        iams_total += v[0]\n",
    "    else:\n",
    "        aleph_total += v[0]\n",
    "    "
   ]
  },
  {
   "cell_type": "code",
   "execution_count": null,
   "id": "f7435881-5c04-450c-8aff-67536779a461",
   "metadata": {},
   "outputs": [],
   "source": [
    "iams_total, aleph_total"
   ]
  },
  {
   "cell_type": "markdown",
   "id": "525feafc-d87f-4245-adab-fc26b6d87036",
   "metadata": {},
   "source": [
    "### Output entries as txt"
   ]
  },
  {
   "cell_type": "code",
   "execution_count": null,
   "id": "6f4e3b07-46e1-4301-a63f-e52928b332a5",
   "metadata": {},
   "outputs": [],
   "source": [
    "ep1700s_df = pd.read_csv(f\"../data/interim/epBooks1700s.csv\", index_col=0, encoding=\"utf8\")\n",
    "western_manuscripts_df = pd.read_csv(f\"../data/interim/Western Manuscripts_v2.csv\", index_col=0, encoding=\"utf8\")"
   ]
  },
  {
   "cell_type": "code",
   "execution_count": null,
   "id": "e8c5d781-d71b-4f42-b9b9-9dbf072d4aa8",
   "metadata": {},
   "outputs": [],
   "source": [
    "ep1700s_df.head()"
   ]
  },
  {
   "cell_type": "code",
   "execution_count": null,
   "id": "0140d421-3be4-4f42-acd8-fb9af9cef497",
   "metadata": {},
   "outputs": [],
   "source": [
    "for i in range(10000):\n",
    "    with open(f\"../data/processed/de_bias/epBooks1700s/{i}.txt\", \"w\", encoding=\"utf8\") as f:\n",
    "        f.write(ep1700s_df[\"Title [245]\"].iloc[i])"
   ]
  },
  {
   "cell_type": "code",
   "execution_count": null,
   "id": "05d71e24-ff15-4634-9100-2a90b9e8cd85",
   "metadata": {},
   "outputs": [],
   "source": [
    "for i in range(100):\n",
    "    with open(f\"../data/processed/de_bias/western_manuscripts/{i}.txt\", \"w\", encoding=\"utf8\") as f:\n",
    "        f.write(western_manuscripts_df[\"Title\"].iloc[i] + \"\\n\")\n",
    "        if not type(western_manuscripts_df[\"Scope and content\"].iloc[i]) == float:\n",
    "            f.write(western_manuscripts_df[\"Scope and content\"].iloc[i])"
   ]
  }
 ],
 "metadata": {
  "kernelspec": {
   "display_name": "Python [conda env:desc-aud]",
   "language": "python",
   "name": "conda-env-desc-aud-py"
  },
  "language_info": {
   "codemirror_mode": {
    "name": "ipython",
    "version": 3
   },
   "file_extension": ".py",
   "mimetype": "text/x-python",
   "name": "python",
   "nbconvert_exporter": "python",
   "pygments_lexer": "ipython3",
   "version": "3.11.10"
  }
 },
 "nbformat": 4,
 "nbformat_minor": 5
}
